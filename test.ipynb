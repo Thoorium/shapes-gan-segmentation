{
 "cells": [
  {
   "cell_type": "code",
   "execution_count": 114,
   "metadata": {},
   "outputs": [],
   "source": [
    "from __future__ import absolute_import, division, print_function, unicode_literals\n",
    "import tensorflow as tf\n",
    "import glob\n",
    "import imageio\n",
    "import matplotlib.pyplot as plt\n",
    "import numpy as np\n",
    "import os\n",
    "import PIL\n",
    "from tensorflow.keras import layers\n",
    "import time\n",
    "import random\n",
    "\n",
    "from IPython import display\n",
    "from skimage.draw import random_shapes, rectangle, polygon, circle"
   ]
  },
  {
   "cell_type": "code",
   "execution_count": 231,
   "metadata": {},
   "outputs": [
    {
     "name": "stdout",
     "output_type": "stream",
     "text": [
      "[('circle', ((114, 375), (146, 407))), ('triangle', ((22, 158), (176, 332)))]\n",
      "(176, 254.0, 332, 176)\n",
      "(158, 22, 158, 158)\n"
     ]
    },
    {
     "data": {
      "image/png": "[encoded data removed]",
      "text/plain": [
       "<Figure size 576x576 with 3 Axes>"
      ]
     },
     "metadata": {
      "needs_background": "light"
     },
     "output_type": "display_data"
    }
   ],
   "source": [
    "image, labels = random_shapes((448, 448), min_shapes=1, max_shapes=3,\n",
    "                         min_size=128, allow_overlap=True)\n",
    "\n",
    "fig=plt.figure(figsize=(8, 8))\n",
    "#plt.imshow(image)\n",
    "print(labels)\n",
    "masks = []\n",
    "for i in range(0, len(labels)):\n",
    "    img= np.zeros((448, 448), dtype=np.uint8)\n",
    "    \n",
    "    if(labels[i][0] == 'rectangle'):\n",
    "        rr, cc = rectangle((labels[i][1][0][0], labels[i][1][1][0]), (labels[i][1][0][1], labels[i][1][1][1]),\n",
    "                   shape=img.shape)\n",
    "    if(labels[i][0] == 'circle'):\n",
    "        y = labels[i][1][0][1]- (labels[i][1][0][1] - labels[i][1][0][0]) / 2\n",
    "        x = labels[i][1][1][1]-(labels[i][1][1][1] - labels[i][1][1][0]) / 2\n",
    "        r = (labels[i][1][0][1] - labels[i][1][0][0]) / 2        \n",
    "        rr, cc = circle(y, x, r, shape=img.shape)\n",
    "    if(labels[i][0] == 'triangle'):\n",
    "        x = (labels[i][1][1][0], labels[i][1][1][1] - (labels[i][1][1][1] - labels[i][1][1][0]) / 2, labels[i][1][1][1], labels[i][1][1][0])\n",
    "        y = (labels[i][1][0][1], labels[i][1][0][0], labels[i][1][0][1], labels[i][1][0][1])\n",
    "        print(x)\n",
    "        print(y)\n",
    "        rr, cc = polygon(y, x, shape=img.shape)\n",
    "                \n",
    "        \n",
    "    img[rr, cc] = 1\n",
    "    masks.append(img)\n",
    "\n",
    "fig.add_subplot(1, len(labels)+1, 1)\n",
    "plt.imshow(image)\n",
    "for i in range(0, len(labels)):    \n",
    "    fig.add_subplot(1, len(labels)+1, i+2)\n",
    "    plt.imshow(masks[i])\n",
    "plt.show()"
   ]
  },
  {
   "cell_type": "code",
   "execution_count": null,
   "metadata": {},
   "outputs": [],
   "source": []
  },
  {
   "cell_type": "code",
   "execution_count": null,
   "metadata": {},
   "outputs": [],
   "source": []
  },
  {
   "cell_type": "code",
   "execution_count": null,
   "metadata": {},
   "outputs": [],
   "source": []
  }
 ],
 "metadata": {
  "kernelspec": {
   "display_name": "Python 3",
   "language": "python",
   "name": "python3"
  },
  "language_info": {
   "codemirror_mode": {
    "name": "ipython",
    "version": 3
   },
   "file_extension": ".py",
   "mimetype": "text/x-python",
   "name": "python",
   "nbconvert_exporter": "python",
   "pygments_lexer": "ipython3",
   "version": "3.7.3"
  }
 },
 "nbformat": 4,
 "nbformat_minor": 2
}
